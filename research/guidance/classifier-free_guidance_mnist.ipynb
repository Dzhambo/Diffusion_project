{
 "cells": [
  {
   "cell_type": "code",
   "execution_count": null,
   "id": "b51f5678-43e3-49e4-b13d-35ab3b3ab402",
   "metadata": {},
   "outputs": [],
   "source": [
    "import sys\n",
    "import ssl\n",
    "\n",
    "ssl._create_default_https_context = ssl._create_unverified_context\n",
    "sys.path.append('../../')\n",
    "\n",
    "import numpy as np\n",
    "import random\n",
    "from IPython.display import Image\n",
    "\n",
    "import torch\n",
    "from torch.utils.data import DataLoader\n",
    "\n",
    "from torchvision.datasets.mnist import MNIST\n",
    "\n",
    "from utils import show_first_batch, transform_data, show_images, plot_metrics_iddpm, show_tensor_images, calculate_metrics\n",
    "from train import Trainer\n",
    "from diffusion_models.ddpm_classifier_free_guidance import GaussianDiffusion\n",
    "from metrics.fid_score import fid_score\n",
    "from metrics.inception_score import inception_score\n",
    "from diffusion_models.iddpm import Classifier, classifier_cond_fn\n",
    "\n",
    "from diffusion_models.ddpm_classifier_free_guidance import Unet\n",
    "\n",
    "import ipywidgets as widgets\n",
    "widgets.IntSlider()\n",
    "\n",
    "SEED = 0\n",
    "random.seed(SEED)\n",
    "np.random.seed(SEED)\n",
    "torch.manual_seed(SEED)\n",
    "\n",
    "device = torch.device('cuda' if torch.cuda.is_available() else 'cpu')\n",
    "device"
   ]
  },
  {
   "cell_type": "code",
   "execution_count": null,
   "id": "adeb25c8-143d-403a-a580-eaafcd312421",
   "metadata": {},
   "outputs": [],
   "source": [
    "dataset = transform_data(MNIST, store_path=\"../../datasets\")\n",
    "train_dataloader = DataLoader(dataset, batch_size=128, num_workers=0, shuffle=True)\n",
    "show_first_batch(train_dataloader)"
   ]
  },
  {
   "cell_type": "code",
   "execution_count": null,
   "id": "89982d38-4e7e-48f8-ad1a-bd732a971a27",
   "metadata": {},
   "outputs": [],
   "source": [
    "num_classes = 10\n",
    "\n",
    "model = Unet(\n",
    "    dim = 64,\n",
    "    dim_mults = (1, 2, 4, 8),\n",
    "    num_classes = num_classes,\n",
    "    cond_drop_prob = 0.5\n",
    ")\n",
    "\n",
    "diffusion = GaussianDiffusion(\n",
    "    model,\n",
    "    image_size = 32,\n",
    "    timesteps = 1000\n",
    ").cuda()\n"
   ]
  },
  {
   "cell_type": "code",
   "execution_count": null,
   "id": "24e2cf43-94b0-4db5-992b-251111b5d8a7",
   "metadata": {},
   "outputs": [],
   "source": [
    "trainer = Trainer(\n",
    "    diffusion,\n",
    "    train_dataloader,\n",
    "    train_lr = 2e-4,\n",
    "    train_num_steps = 700000, \n",
    "    device=device\n",
    ") "
   ]
  },
  {
   "cell_type": "code",
   "execution_count": null,
   "id": "d381d0d8-049a-4ab3-bafc-b5956790725e",
   "metadata": {},
   "outputs": [],
   "source": [
    "trainer.train_guidance_free()"
   ]
  },
  {
   "cell_type": "code",
   "execution_count": null,
   "id": "b569d7b6-11e0-43ab-a5d1-499859caa06b",
   "metadata": {},
   "outputs": [],
   "source": [
    "store_path = '../../model_weights/iddpm_mnist_steps_1000_guidance_free.pt'\n",
    "torch.save(diffusion.state_dict(), store_path)"
   ]
  },
  {
   "cell_type": "code",
   "execution_count": null,
   "id": "a05ba628-d622-4778-9344-cd6c16f0ae1c",
   "metadata": {},
   "outputs": [],
   "source": [
    "batch_size = 100\n",
    "image_classes = torch.randint(0, num_classes, (batch_size,)).cuda()\n",
    "\n",
    "\n",
    "sampled_images = diffusion.sample(\n",
    "        classes = image_classes,\n",
    "        cond_scale = 3.                # condition scaling, anything greater than 1 strengthens the classifier free guidance. reportedly 3-8 is good empirically\n",
    ")\n",
    "\n",
    "show_images(sampled_images)"
   ]
  }
 ],
 "metadata": {
  "kernelspec": {
   "display_name": "kern",
   "language": "python",
   "name": "kern"
  },
  "language_info": {
   "codemirror_mode": {
    "name": "ipython",
    "version": 3
   },
   "file_extension": ".py",
   "mimetype": "text/x-python",
   "name": "python",
   "nbconvert_exporter": "python",
   "pygments_lexer": "ipython3",
   "version": "3.7.12"
  }
 },
 "nbformat": 4,
 "nbformat_minor": 5
}
