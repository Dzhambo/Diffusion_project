{
 "cells": [
  {
   "cell_type": "code",
   "execution_count": null,
   "id": "2eecdf5b-c4fe-403c-a3c5-fa04a709c5d6",
   "metadata": {},
   "outputs": [],
   "source": [
    "import sys\n",
    "import ssl\n",
    "\n",
    "ssl._create_default_https_context = ssl._create_unverified_context\n",
    "sys.path.append('../../')\n",
    "\n",
    "import numpy as np\n",
    "import random\n",
    "from IPython.display import Image\n",
    "\n",
    "import torch\n",
    "from torch.utils.data import DataLoader\n",
    "\n",
    "from torchvision.datasets import CIFAR10\n",
    "\n",
    "from utils import show_first_batch, transform_data, show_images, plot_metrics_iddpm, show_tensor_images\n",
    "from train import Trainer\n",
    "from diffusion_models.iddpm import GaussianDiffusion\n",
    "from metrics.fid_score import fid_score\n",
    "from metrics.inception_score import inception_score\n",
    "from diffusion_models.iddpm import Classifier, classifier_cond_fn\n",
    "\n",
    "from reverse_models.iunet.unet import Unet\n",
    "\n",
    "import ipywidgets as widgets\n",
    "widgets.IntSlider()\n",
    "\n",
    "SEED = 0\n",
    "random.seed(SEED)\n",
    "np.random.seed(SEED)\n",
    "torch.manual_seed(SEED)\n",
    "\n",
    "device = torch.device('cuda' if torch.cuda.is_available() else 'cpu')\n",
    "device"
   ]
  },
  {
   "cell_type": "code",
   "execution_count": null,
   "id": "93cfe766-26d4-479e-bdac-e182ee3b126b",
   "metadata": {},
   "outputs": [],
   "source": [
    "dataset = transform_data(CIFAR10, store_path=\"../../datasets\")\n",
    "train_dataloader = DataLoader(dataset, batch_size=128, num_workers=0, shuffle=True)\n",
    "show_first_batch(train_dataloader)"
   ]
  },
  {
   "cell_type": "markdown",
   "id": "f3b1856e-ff76-46cd-99ca-668ad7046f64",
   "metadata": {},
   "source": [
    "# Linear scheduler"
   ]
  },
  {
   "cell_type": "code",
   "execution_count": null,
   "id": "9a0555da-1e06-4382-940d-268a55038853",
   "metadata": {},
   "outputs": [],
   "source": [
    "model = Unet(dim = 64, channels=1).to(device)\n",
    "\n",
    "diffusion = GaussianDiffusion(\n",
    "    model,\n",
    "    image_size = 32,\n",
    "    timesteps = 1000,           \n",
    "    loss_type = 'l2'  \n",
    "    beta_schedule=\"linear\",\n",
    ").to(device)"
   ]
  },
  {
   "cell_type": "code",
   "execution_count": null,
   "id": "1020cea6-11c3-435a-bc96-53498b792319",
   "metadata": {},
   "outputs": [],
   "source": [
    "trainer = Trainer(\n",
    "    diffusion,\n",
    "    train_dataloader,\n",
    "    train_lr = 2e-4,\n",
    "    train_num_steps = 700000, \n",
    "    device=device\n",
    ") "
   ]
  },
  {
   "cell_type": "code",
   "execution_count": null,
   "id": "b1fc4ec0-ab7f-494a-a94b-07c87402a5b7",
   "metadata": {},
   "outputs": [],
   "source": [
    "trainer.train()"
   ]
  },
  {
   "cell_type": "code",
   "execution_count": null,
   "id": "19c33580-4954-4f2f-8b34-3575bbfb65af",
   "metadata": {},
   "outputs": [],
   "source": [
    "generated_images = diffusion.sample(batch_size = 128, return_all_timesteps=True).cpu()\n"
   ]
  },
  {
   "cell_type": "code",
   "execution_count": null,
   "id": "84b73d6b-32ea-40af-990e-fba580d08d44",
   "metadata": {},
   "outputs": [],
   "source": [
    "plot_metrics_iddpm(generated_images, dataset, device=torch.device('cpu'), n_timestamps=1000, batch_size=128)"
   ]
  },
  {
   "cell_type": "code",
   "execution_count": null,
   "id": "100c814d-f6e9-4efd-bd80-9a5a07f50e77",
   "metadata": {},
   "outputs": [],
   "source": [
    "generated_images_for_show = diffusion.sample(batch_size = 128).cpu()\n",
    "show_images(generated_images_for_show)"
   ]
  },
  {
   "cell_type": "markdown",
   "id": "ace4d8a4-0deb-4f59-92ca-f487d1eef361",
   "metadata": {},
   "source": [
    "# Cosine scheduler"
   ]
  },
  {
   "cell_type": "code",
   "execution_count": null,
   "id": "f33e8ec9-3c86-4c9a-a45e-7b2e56d07c20",
   "metadata": {},
   "outputs": [],
   "source": [
    "model = Unet(dim = 64, channels=1).to(device)\n",
    "\n",
    "diffusion = GaussianDiffusion(\n",
    "    model,\n",
    "    image_size = 32,\n",
    "    timesteps = 1000,           \n",
    "    loss_type = 'l2'  \n",
    "    beta_schedule=\"cosine\",\n",
    ").to(device)"
   ]
  },
  {
   "cell_type": "code",
   "execution_count": null,
   "id": "e0c020bc-daa9-4f9a-8bf7-c21b785380bb",
   "metadata": {},
   "outputs": [],
   "source": [
    "trainer = Trainer(\n",
    "    diffusion,\n",
    "    train_dataloader,\n",
    "    train_lr = 2e-4,\n",
    "    train_num_steps = 700000, \n",
    "    device=device\n",
    ") "
   ]
  },
  {
   "cell_type": "code",
   "execution_count": null,
   "id": "6e6ef0fb-7af7-4fbc-bdf4-2bac683abf8d",
   "metadata": {},
   "outputs": [],
   "source": [
    "trainer.train()"
   ]
  },
  {
   "cell_type": "code",
   "execution_count": null,
   "id": "c39411f5-eb48-45c5-b5f4-1cba11bc265d",
   "metadata": {},
   "outputs": [],
   "source": [
    "generated_images = diffusion.sample(batch_size = 128, return_all_timesteps=True).cpu()"
   ]
  },
  {
   "cell_type": "code",
   "execution_count": null,
   "id": "a683b673-8085-4ba2-8896-8b060def9370",
   "metadata": {},
   "outputs": [],
   "source": [
    "plot_metrics_iddpm(generated_images, dataset, device=torch.device('cpu'), n_timestamps=1000, batch_size=128)"
   ]
  },
  {
   "cell_type": "code",
   "execution_count": null,
   "id": "c4388852-ab60-401d-9a83-925ad9bc8f90",
   "metadata": {},
   "outputs": [],
   "source": [
    "generated_images_for_show = diffusion.sample(batch_size = 128).cpu()\n",
    "show_images(generated_images_for_show)"
   ]
  },
  {
   "cell_type": "markdown",
   "id": "dd385de5-ef5e-42d0-a166-e978fa5bd857",
   "metadata": {},
   "source": [
    "# Sigmoid scheduler"
   ]
  },
  {
   "cell_type": "code",
   "execution_count": null,
   "id": "c7a0ab3d-169f-4182-8a95-36642fbe548c",
   "metadata": {},
   "outputs": [],
   "source": [
    "model = Unet(dim = 64, channels=1).to(device)\n",
    "\n",
    "diffusion = GaussianDiffusion(\n",
    "    model,\n",
    "    image_size = 32,\n",
    "    timesteps = 1000,           \n",
    "    loss_type = 'l2'  \n",
    "    beta_schedule=\"sigmoid\",\n",
    ").to(device)"
   ]
  },
  {
   "cell_type": "code",
   "execution_count": null,
   "id": "67bf68b6-ef43-4e1f-93e1-99ce2dd31a37",
   "metadata": {},
   "outputs": [],
   "source": [
    "trainer = Trainer(\n",
    "    diffusion,\n",
    "    train_dataloader,\n",
    "    train_lr = 2e-4,\n",
    "    train_num_steps = 700000, \n",
    "    device=device\n",
    ") "
   ]
  },
  {
   "cell_type": "code",
   "execution_count": null,
   "id": "09fa5062-1cb6-4885-b419-885b397fb6ab",
   "metadata": {},
   "outputs": [],
   "source": [
    "trainer.train()"
   ]
  },
  {
   "cell_type": "code",
   "execution_count": null,
   "id": "a3eb5fb5-719c-4032-9f1d-ada539298247",
   "metadata": {},
   "outputs": [],
   "source": [
    "generated_images = diffusion.sample(batch_size = 128, return_all_timesteps=True).cpu()"
   ]
  },
  {
   "cell_type": "code",
   "execution_count": null,
   "id": "66b73c10-33e0-44af-9ed1-20dacad658cc",
   "metadata": {},
   "outputs": [],
   "source": [
    "plot_metrics_iddpm(generated_images, dataset, device=torch.device('cpu'), n_timestamps=1000, batch_size=128)"
   ]
  },
  {
   "cell_type": "code",
   "execution_count": null,
   "id": "befe45ea-4ae9-4252-a013-095ac9e5c9ff",
   "metadata": {},
   "outputs": [],
   "source": [
    "generated_images_for_show = diffusion.sample(batch_size = 128).cpu()\n",
    "show_images(generated_images_for_show)"
   ]
  }
 ],
 "metadata": {
  "kernelspec": {
   "display_name": "kern",
   "language": "python",
   "name": "kern"
  },
  "language_info": {
   "codemirror_mode": {
    "name": "ipython",
    "version": 3
   },
   "file_extension": ".py",
   "mimetype": "text/x-python",
   "name": "python",
   "nbconvert_exporter": "python",
   "pygments_lexer": "ipython3",
   "version": "3.7.12"
  }
 },
 "nbformat": 4,
 "nbformat_minor": 5
}
