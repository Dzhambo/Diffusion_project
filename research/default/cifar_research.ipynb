{
 "cells": [
  {
   "cell_type": "code",
   "execution_count": 1,
   "metadata": {},
   "outputs": [
    {
     "data": {
      "text/plain": [
       "<torch._C.Generator at 0x1688d4290>"
      ]
     },
     "execution_count": 1,
     "metadata": {},
     "output_type": "execute_result"
    }
   ],
   "source": [
    "import sys\n",
    "import ssl\n",
    "\n",
    "ssl._create_default_https_context = ssl._create_unverified_context\n",
    "sys.path.append('../../')\n",
    "\n",
    "import numpy as np\n",
    "import random\n",
    "from IPython.display import Image\n",
    "\n",
    "import torch\n",
    "from torch.utils.data import DataLoader\n",
    "\n",
    "from torchvision.datasets import CIFAR10\n",
    "\n",
    "from utils import show_first_batch, transform_data_for_show, show_forward, training, show_images, generate_new_images\n",
    "from diffusion_models.ddpm import CustomDiffusionModel\n",
    "from reverse_models.simple_unet.unet import CustomUnet\n",
    "from metrics.rate_score import rate_score\n",
    "from metrics.inception_score import inception_score\n",
    "\n",
    "\n",
    "\n",
    "SEED = 0\n",
    "random.seed(SEED)\n",
    "np.random.seed(SEED)\n",
    "torch.manual_seed(SEED)\n",
    "\n",
    "device = torch.device('cuda' if torch.cuda.is_available() else 'cpu')\n",
    "device"
   ]
  },
  {
   "cell_type": "code",
   "execution_count": null,
   "metadata": {},
   "outputs": [],
   "source": [
    "min_beta, max_beta = 10 ** -4, 0.02"
   ]
  },
  {
   "attachments": {},
   "cell_type": "markdown",
   "metadata": {},
   "source": [
    "# Read  and prepare dataset"
   ]
  },
  {
   "cell_type": "code",
   "execution_count": null,
   "metadata": {},
   "outputs": [],
   "source": [
    "dataset = transform_data_for_show(CIFAR10)\n",
    "train_dataloader = DataLoader(dataset, batch_size=128, num_workers=0, shuffle=True)\n",
    "show_first_batch(train_dataloader)"
   ]
  },
  {
   "cell_type": "code",
   "execution_count": null,
   "metadata": {},
   "outputs": [],
   "source": [
    "image_channels = next(iter(train_dataloader))[0].size()[1]\n",
    "image_channels"
   ]
  },
  {
   "attachments": {},
   "cell_type": "markdown",
   "metadata": {},
   "source": [
    "# N_STEPS = 1000"
   ]
  },
  {
   "cell_type": "code",
   "execution_count": null,
   "metadata": {},
   "outputs": [],
   "source": [
    "n_steps = 1000\n",
    "\n",
    "ddpm = CustomDiffusionModel(CustomUnet(image_channels), n_steps=n_steps, min_beta=min_beta, max_beta=max_beta, device=device)\n",
    "show_forward(ddpm, train_dataloader, device)"
   ]
  },
  {
   "attachments": {},
   "cell_type": "markdown",
   "metadata": {},
   "source": [
    "### Train"
   ]
  },
  {
   "cell_type": "code",
   "execution_count": null,
   "metadata": {},
   "outputs": [],
   "source": [
    "optimizer = torch.optim.Adam(ddpm.parameters(), lr=0.001)     \n",
    "training(ddpm, train_dataloader, display=True, n_epochs=50, device=device, optimizer=optimizer, store_path = '../../model_weights/ddpm_cifar_steps_1000.pt') "
   ]
  },
  {
   "attachments": {},
   "cell_type": "markdown",
   "metadata": {},
   "source": [
    "### Test"
   ]
  },
  {
   "cell_type": "code",
   "execution_count": null,
   "metadata": {},
   "outputs": [],
   "source": [
    "store_path = '../../model_weights/ddpm_cifar_steps_1000.pt'\n",
    "\n",
    "best_model = CustomDiffusionModel(CustomUnet(image_channels), n_steps=n_steps, device=device)\n",
    "best_model.load_state_dict(torch.load(store_path, map_location=device))\n",
    "best_model.eval()\n",
    "print(\"Model loaded\")"
   ]
  },
  {
   "cell_type": "code",
   "execution_count": null,
   "metadata": {},
   "outputs": [],
   "source": [
    "print(\"Generating new images\")\n",
    "generated = generate_new_images(\n",
    "        best_model,\n",
    "        n_samples=100,\n",
    "        device=device,\n",
    "        gif_name=\"../../pictures/cifar_1000.gif\"\n",
    "    )\n",
    "show_images(generated, title=\"Final result\")"
   ]
  },
  {
   "cell_type": "code",
   "execution_count": null,
   "metadata": {},
   "outputs": [],
   "source": [
    "Image(open('../../pictures/cifar_1000.gif', 'rb').read())"
   ]
  },
  {
   "attachments": {},
   "cell_type": "markdown",
   "metadata": {},
   "source": [
    "### Metrics"
   ]
  },
  {
   "cell_type": "code",
   "execution_count": null,
   "metadata": {},
   "outputs": [],
   "source": [
    "print('bits_per_pixel = {}, N = 100, n_step = 1000'.format(rate_score(generated)))\n",
    "print('inception_score = {}, N = 100, n_step = 1000'.format(inception_score(generated, device=device)))"
   ]
  },
  {
   "attachments": {},
   "cell_type": "markdown",
   "metadata": {},
   "source": [
    "# N_STEPS = 500"
   ]
  },
  {
   "cell_type": "code",
   "execution_count": null,
   "metadata": {},
   "outputs": [],
   "source": [
    "n_steps = 500\n",
    "\n",
    "ddpm = CustomDiffusionModel(CustomUnet(image_channels), n_steps=n_steps, min_beta=min_beta, max_beta=max_beta, device=device)\n",
    "show_forward(ddpm, train_dataloader, device)"
   ]
  },
  {
   "attachments": {},
   "cell_type": "markdown",
   "metadata": {},
   "source": [
    "### Train"
   ]
  },
  {
   "cell_type": "code",
   "execution_count": null,
   "metadata": {},
   "outputs": [],
   "source": [
    "optimizer = torch.optim.Adam(ddpm.parameters(), lr=0.001)     \n",
    "training(ddpm, train_dataloader, display=True, n_epochs=50, device=device, optimizer=optimizer, store_path = '../../model_weights/ddpm_cifar_steps_500.pt') "
   ]
  },
  {
   "attachments": {},
   "cell_type": "markdown",
   "metadata": {},
   "source": [
    "### Test"
   ]
  },
  {
   "cell_type": "code",
   "execution_count": 2,
   "metadata": {},
   "outputs": [],
   "source": [
    "store_path = '../../model_weights/ddpm_cifar_steps_500.pt'\n",
    "\n",
    "best_model = CustomDiffusionModel(CustomUnet(image_channels), n_steps=n_steps, device=device)\n",
    "best_model.load_state_dict(torch.load(store_path, map_location=device))\n",
    "best_model.eval()\n",
    "print(\"Model loaded\")"
   ]
  },
  {
   "cell_type": "code",
   "execution_count": null,
   "metadata": {},
   "outputs": [],
   "source": [
    "print(\"Generating new images\")\n",
    "generated = generate_new_images(\n",
    "        best_model,\n",
    "        n_samples=100,\n",
    "        device=device,\n",
    "        gif_name=\"../../pictures/cifar_500.gif\"\n",
    "    )\n",
    "show_images(generated, title=\"Final result\")"
   ]
  },
  {
   "cell_type": "code",
   "execution_count": null,
   "metadata": {},
   "outputs": [],
   "source": [
    "Image(open('../../pictures/cifar_500.gif', 'rb').read())"
   ]
  },
  {
   "attachments": {},
   "cell_type": "markdown",
   "metadata": {},
   "source": [
    "### Metrics"
   ]
  },
  {
   "cell_type": "code",
   "execution_count": null,
   "metadata": {},
   "outputs": [],
   "source": [
    "print('bits_per_pixel = {}, N = 100, n_step = 500'.format(rate_score(generated)))\n",
    "print('inception_score = {}, N = 100,  n_step = 500'.format(inception_score(generated, device=device)))"
   ]
  },
  {
   "attachments": {},
   "cell_type": "markdown",
   "metadata": {},
   "source": [
    "# N_STEPS = 2000"
   ]
  },
  {
   "cell_type": "code",
   "execution_count": null,
   "metadata": {},
   "outputs": [],
   "source": [
    "n_steps = 2000\n",
    "\n",
    "ddpm = CustomDiffusionModel(CustomUnet(image_channels), n_steps=n_steps, min_beta=min_beta, max_beta=max_beta, device=device)\n",
    "show_forward(ddpm, train_dataloader, device)"
   ]
  },
  {
   "attachments": {},
   "cell_type": "markdown",
   "metadata": {},
   "source": [
    "### Train"
   ]
  },
  {
   "cell_type": "code",
   "execution_count": null,
   "metadata": {},
   "outputs": [],
   "source": [
    "optimizer = torch.optim.Adam(ddpm.parameters(), lr=0.001)     \n",
    "training(ddpm, train_dataloader, display=True, n_epochs=50, device=device, optimizer=optimizer, store_path = '../../model_weights/ddpm_cifar_steps_2000.pt') "
   ]
  },
  {
   "attachments": {},
   "cell_type": "markdown",
   "metadata": {},
   "source": [
    "### Test"
   ]
  },
  {
   "cell_type": "code",
   "execution_count": null,
   "metadata": {},
   "outputs": [],
   "source": [
    "store_path = '../../model_weights/ddpm_cifar_steps_2000.pt'\n",
    "\n",
    "best_model = CustomDiffusionModel(CustomUnet(image_channels), n_steps=n_steps, device=device)\n",
    "best_model.load_state_dict(torch.load(store_path, map_location=device))\n",
    "best_model.eval()\n",
    "print(\"Model loaded\")"
   ]
  },
  {
   "cell_type": "code",
   "execution_count": null,
   "metadata": {},
   "outputs": [],
   "source": [
    "print(\"Generating new images\")\n",
    "generated = generate_new_images(\n",
    "        best_model,\n",
    "        n_samples=100,\n",
    "        device=device,\n",
    "        gif_name=\"../../pictures/cifar_2000.gif\"\n",
    "    )\n",
    "show_images(generated, title=\"Final result\")"
   ]
  },
  {
   "cell_type": "code",
   "execution_count": null,
   "metadata": {},
   "outputs": [],
   "source": [
    "Image(open('../../pictures/cifar_2000.gif', 'rb').read())"
   ]
  },
  {
   "attachments": {},
   "cell_type": "markdown",
   "metadata": {},
   "source": [
    "### Metrics"
   ]
  },
  {
   "cell_type": "code",
   "execution_count": null,
   "metadata": {},
   "outputs": [],
   "source": [
    "print('bits_per_pixel = {}, N = 100, n_step = 2000'.format(rate_score(generated)))\n",
    "print('inception_score = {}, N = 100, n_step = 2000'.format(inception_score(generated, device=device)))"
   ]
  }
 ],
 "metadata": {
  "kernelspec": {
   "display_name": "my_env",
   "language": "python",
   "name": "python3"
  },
  "language_info": {
   "codemirror_mode": {
    "name": "ipython",
    "version": 3
   },
   "file_extension": ".py",
   "mimetype": "text/x-python",
   "name": "python",
   "nbconvert_exporter": "python",
   "pygments_lexer": "ipython3",
   "version": "3.11.1"
  },
  "orig_nbformat": 4
 },
 "nbformat": 4,
 "nbformat_minor": 2
}
